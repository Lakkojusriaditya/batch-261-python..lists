{
 "cells": [
  {
   "cell_type": "markdown",
   "id": "cf9e50be",
   "metadata": {},
   "source": [
    "# lists\n",
    "\n",
    "A list is a heterogenous sequential mutable data type.  ##> A list are used to store multiple items in a single variable and it allows duplicate values."
   ]
  },
  {
   "cell_type": "code",
   "execution_count": 2,
   "id": "dc6b805b",
   "metadata": {},
   "outputs": [
    {
     "name": "stdout",
     "output_type": "stream",
     "text": [
      "['apple', 'banana', 'orangge']\n"
     ]
    }
   ],
   "source": [
    "#example\n",
    "thislist= ['apple','banana','orangge']\n",
    "print(thislist)\n"
   ]
  },
  {
   "cell_type": "markdown",
   "id": "f5be8ed5",
   "metadata": {},
   "source": []
  },
  {
   "cell_type": "markdown",
   "id": "c9548df1",
   "metadata": {},
   "source": [
    "# positive slicing()\n",
    "syntax: string [start :end :step]\n",
    "\n",
    "start : it starts with 0. end : n+1(length of datatype) step(default): +1\n"
   ]
  },
  {
   "cell_type": "markdown",
   "id": "3ab9620a",
   "metadata": {},
   "source": [
    "example"
   ]
  },
  {
   "cell_type": "code",
   "execution_count": 6,
   "id": "10c191a8",
   "metadata": {},
   "outputs": [
    {
     "name": "stdout",
     "output_type": "stream",
     "text": [
      "['apple', 'banana', 'orange'] 3 <class 'list'>\n"
     ]
    }
   ],
   "source": [
    "thislist=['apple','banana','orange']\n",
    "print(thislist, len(thislist), type(thislist))"
   ]
  },
  {
   "cell_type": "markdown",
   "id": "aff6b092",
   "metadata": {},
   "source": [
    "# negative slicing()\n",
    "start: -1 end: -(n+1) step: -1"
   ]
  },
  {
   "cell_type": "markdown",
   "id": "c32cc76d",
   "metadata": {},
   "source": [
    "# empty list\n",
    "an empty list can be achieved in two ways i.e. either by using square brackets[] or using the list() constructor. lists are mutable. the list where we dont have any elements."
   ]
  },
  {
   "cell_type": "markdown",
   "id": "a518653e",
   "metadata": {},
   "source": [
    "example"
   ]
  },
  {
   "cell_type": "code",
   "execution_count": 8,
   "id": "b3353bcd",
   "metadata": {},
   "outputs": [
    {
     "name": "stdout",
     "output_type": "stream",
     "text": [
      "[] <class 'list'> 0\n"
     ]
    }
   ],
   "source": [
    "s=[]\n",
    "print(s , type(s), len(s))"
   ]
  },
  {
   "cell_type": "markdown",
   "id": "1a066cd4",
   "metadata": {},
   "source": [
    "nlist()"
   ]
  },
  {
   "cell_type": "code",
   "execution_count": 16,
   "id": "7991b6c9",
   "metadata": {},
   "outputs": [
    {
     "name": "stdout",
     "output_type": "stream",
     "text": [
      "[]\n",
      "<class 'list'>\n",
      "0\n",
      "0x195889ebd40\n"
     ]
    }
   ],
   "source": [
    "l=list()\n",
    "print(l, type(l), len(l), hex(id(l)), sep='\\n')"
   ]
  },
  {
   "cell_type": "code",
   "execution_count": 18,
   "id": "9330731f",
   "metadata": {},
   "outputs": [
    {
     "name": "stdout",
     "output_type": "stream",
     "text": [
      "box\n",
      "<class 'str'>\n",
      "3\n",
      "0x195897af030\n"
     ]
    }
   ],
   "source": [
    "a='box'\n",
    "print(a, type(a),len(a),hex(id(a)),sep='\\n')"
   ]
  },
  {
   "cell_type": "code",
   "execution_count": 20,
   "id": "3e65025b",
   "metadata": {},
   "outputs": [
    {
     "name": "stdout",
     "output_type": "stream",
     "text": [
      "['b', 'o', 'x']\n",
      "<class 'list'>\n",
      "3\n",
      "0x19588f6ec00\n"
     ]
    }
   ],
   "source": [
    "a=list('box')\n",
    "print(a, type(a),len(a),hex(id(a)),sep='\\n')"
   ]
  },
  {
   "cell_type": "markdown",
   "id": "8d1fb39d",
   "metadata": {},
   "source": [
    "a list with in another list is referred as nested list in python\n"
   ]
  },
  {
   "cell_type": "code",
   "execution_count": 30,
   "id": "7ab959e4",
   "metadata": {},
   "outputs": [
    {
     "name": "stdout",
     "output_type": "stream",
     "text": [
      "[3, 4, [5, 6]]\n"
     ]
    }
   ],
   "source": [
    "num = [1, 2, [3, 4, [5, 6]], 7, 8]\n",
    "\n",
    "print(num[2])"
   ]
  },
  {
   "cell_type": "markdown",
   "id": "4ecbdeab",
   "metadata": {},
   "source": [
    "# range()\n",
    " The range() function returns a sequence of numbers, starting from 0 by default, and increments by 1 (by default), and stops before a specified number."
   ]
  },
  {
   "cell_type": "markdown",
   "id": "1d4ba823",
   "metadata": {},
   "source": [
    "example"
   ]
  },
  {
   "cell_type": "code",
   "execution_count": 31,
   "id": "c1a5d3ca",
   "metadata": {},
   "outputs": [
    {
     "name": "stdout",
     "output_type": "stream",
     "text": [
      "range(1, 22)\n",
      "<class 'range'>\n",
      "21\n",
      "0x19588b9eac0\n"
     ]
    }
   ],
   "source": [
    "r=range(1,22)\n",
    "print(r,type(r),len(r),hex(id(r)),sep='\\n')"
   ]
  },
  {
   "cell_type": "markdown",
   "id": "2c96757c",
   "metadata": {},
   "source": [
    "# methods\n",
    "\n",
    "Methods are functions that are associated with an object or a class in Python programming. They are used to perform specific tasks or operations on the data stored within objects or classes."
   ]
  },
  {
   "cell_type": "markdown",
   "id": "9fe23170",
   "metadata": {},
   "source": [
    "example"
   ]
  },
  {
   "cell_type": "code",
   "execution_count": 32,
   "id": "95f71ba6",
   "metadata": {},
   "outputs": [
    {
     "data": {
      "text/plain": [
       "['__add__',\n",
       " '__class__',\n",
       " '__class_getitem__',\n",
       " '__contains__',\n",
       " '__delattr__',\n",
       " '__delitem__',\n",
       " '__dir__',\n",
       " '__doc__',\n",
       " '__eq__',\n",
       " '__format__',\n",
       " '__ge__',\n",
       " '__getattribute__',\n",
       " '__getitem__',\n",
       " '__getstate__',\n",
       " '__gt__',\n",
       " '__hash__',\n",
       " '__iadd__',\n",
       " '__imul__',\n",
       " '__init__',\n",
       " '__init_subclass__',\n",
       " '__iter__',\n",
       " '__le__',\n",
       " '__len__',\n",
       " '__lt__',\n",
       " '__mul__',\n",
       " '__ne__',\n",
       " '__new__',\n",
       " '__reduce__',\n",
       " '__reduce_ex__',\n",
       " '__repr__',\n",
       " '__reversed__',\n",
       " '__rmul__',\n",
       " '__setattr__',\n",
       " '__setitem__',\n",
       " '__sizeof__',\n",
       " '__str__',\n",
       " '__subclasshook__',\n",
       " 'append',\n",
       " 'clear',\n",
       " 'copy',\n",
       " 'count',\n",
       " 'extend',\n",
       " 'index',\n",
       " 'insert',\n",
       " 'pop',\n",
       " 'remove',\n",
       " 'reverse',\n",
       " 'sort']"
      ]
     },
     "execution_count": 32,
     "metadata": {},
     "output_type": "execute_result"
    }
   ],
   "source": [
    "dir(l)"
   ]
  },
  {
   "cell_type": "markdown",
   "id": "f7e40b43",
   "metadata": {},
   "source": [
    "# append()\n",
    "The append() method appends an element to the end of the list.\n",
    "\n",
    "Syntax: list.append(elmnt)"
   ]
  },
  {
   "cell_type": "code",
   "execution_count": 34,
   "id": "7b663896",
   "metadata": {},
   "outputs": [
    {
     "name": "stdout",
     "output_type": "stream",
     "text": [
      "['ntr', ' balayya', ['cbn', 'lokesh']]\n"
     ]
    }
   ],
   "source": [
    "a = [\"ntr\", \" balayya\"]\n",
    "b = [\"cbn\", \"lokesh\"]\n",
    "a.append(b)\n",
    "print(a)"
   ]
  },
  {
   "cell_type": "markdown",
   "id": "1b099646",
   "metadata": {},
   "source": [
    "# insert\n",
    "\n",
    "The insert() method inserts the specified value at the specified position.\n",
    "\n",
    "Syntax: list.insert(pos, elmnt)"
   ]
  },
  {
   "cell_type": "code",
   "execution_count": 36,
   "id": "67c04623",
   "metadata": {},
   "outputs": [
    {
     "name": "stdout",
     "output_type": "stream",
     "text": [
      "['ntr', ' balayya']\n"
     ]
    }
   ],
   "source": [
    "a = [\"ntr\", \" balayya\",\"cbn\"]\n",
    "a.remove(\"cbn\")\n",
    "print(a)\n",
    "\n"
   ]
  },
  {
   "cell_type": "markdown",
   "id": "a849c101",
   "metadata": {},
   "source": [
    "# pop method\n",
    " The pop() method removes the element at the specified position.\n",
    "\n",
    "syntax: list.pop(pos)"
   ]
  },
  {
   "cell_type": "code",
   "execution_count": 37,
   "id": "1d9e2dba",
   "metadata": {},
   "outputs": [
    {
     "name": "stdout",
     "output_type": "stream",
     "text": [
      "['ntr', ' balayya']\n"
     ]
    }
   ],
   "source": [
    "a = [\"ntr\", \" balayya\",\"cbn\"]\n",
    "a.pop(2)\n",
    "print(a)"
   ]
  },
  {
   "cell_type": "code",
   "execution_count": null,
   "id": "3749b59e",
   "metadata": {},
   "outputs": [],
   "source": []
  }
 ],
 "metadata": {
  "kernelspec": {
   "display_name": "Python 3 (ipykernel)",
   "language": "python",
   "name": "python3"
  },
  "language_info": {
   "codemirror_mode": {
    "name": "ipython",
    "version": 3
   },
   "file_extension": ".py",
   "mimetype": "text/x-python",
   "name": "python",
   "nbconvert_exporter": "python",
   "pygments_lexer": "ipython3",
   "version": "3.11.5"
  }
 },
 "nbformat": 4,
 "nbformat_minor": 5
}
